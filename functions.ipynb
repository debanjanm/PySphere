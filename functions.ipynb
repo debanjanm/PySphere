{
 "cells": [
  {
   "cell_type": "markdown",
   "metadata": {},
   "source": [
    "#### 1. Basic Function Syntax"
   ]
  },
  {
   "cell_type": "code",
   "execution_count": 1,
   "metadata": {},
   "outputs": [
    {
     "name": "stdout",
     "output_type": "stream",
     "text": [
      "Hello, World!\n"
     ]
    }
   ],
   "source": [
    "def greet():\n",
    "    \"\"\"\n",
    "    A simple function that prints a greeting message.\n",
    "    \"\"\"\n",
    "    print(\"Hello, World!\")\n",
    "\n",
    "# Calling the function\n",
    "greet()"
   ]
  },
  {
   "cell_type": "markdown",
   "metadata": {},
   "source": [
    "#### 2. Function with Parameters"
   ]
  },
  {
   "cell_type": "code",
   "execution_count": 2,
   "metadata": {},
   "outputs": [
    {
     "name": "stdout",
     "output_type": "stream",
     "text": [
      "Hello, Alice!\n"
     ]
    }
   ],
   "source": [
    "def greet_person(name):\n",
    "    \"\"\"\n",
    "    A function that takes a name as a parameter and prints a personalized greeting.\n",
    "    :param name: str - The name of the person to greet.\n",
    "    \"\"\"\n",
    "    print(f\"Hello, {name}!\")\n",
    "\n",
    "# Calling the function with an argument\n",
    "greet_person(\"Alice\")"
   ]
  },
  {
   "cell_type": "markdown",
   "metadata": {},
   "source": [
    "#### 3. Function with Return Value"
   ]
  },
  {
   "cell_type": "code",
   "execution_count": 3,
   "metadata": {},
   "outputs": [
    {
     "name": "stdout",
     "output_type": "stream",
     "text": [
      "Sum: 8\n"
     ]
    }
   ],
   "source": [
    "def add(a, b):\n",
    "    \"\"\"\n",
    "    A function that takes two numbers as parameters and returns their sum.\n",
    "    :param a: int/float - The first number.\n",
    "    :param b: int/float - The second number.\n",
    "    :return: int/float - The sum of a and b.\n",
    "    \"\"\"\n",
    "    return a + b\n",
    "\n",
    "# Using the return value\n",
    "result = add(5, 3)\n",
    "print(f\"Sum: {result}\")"
   ]
  },
  {
   "cell_type": "markdown",
   "metadata": {},
   "source": [
    "#### 4. Default Arguments"
   ]
  },
  {
   "cell_type": "code",
   "execution_count": 4,
   "metadata": {},
   "outputs": [
    {
     "name": "stdout",
     "output_type": "stream",
     "text": [
      "Good morning, Guest!\n",
      "Good afternoon, Alice!\n"
     ]
    }
   ],
   "source": [
    "def greet_with_time(name=\"Guest\", time_of_day=\"morning\"):\n",
    "    \"\"\"\n",
    "    A function with default parameter values.\n",
    "    :param name: str - The name of the person (default is 'Guest').\n",
    "    :param time_of_day: str - The time of day (default is 'morning').\n",
    "    \"\"\"\n",
    "    print(f\"Good {time_of_day}, {name}!\")\n",
    "\n",
    "# Calling the function with and without arguments\n",
    "greet_with_time()\n",
    "greet_with_time(\"Alice\", \"afternoon\")"
   ]
  },
  {
   "cell_type": "markdown",
   "metadata": {},
   "source": [
    "#### 5. Keyword Arguments"
   ]
  },
  {
   "cell_type": "code",
   "execution_count": 5,
   "metadata": {},
   "outputs": [
    {
     "name": "stdout",
     "output_type": "stream",
     "text": [
      "I have a dog named Rex.\n",
      "I have a cat named Whiskers.\n"
     ]
    }
   ],
   "source": [
    "def describe_pet(animal_type, pet_name):\n",
    "    \"\"\"\n",
    "    A function that accepts keyword arguments to describe a pet.\n",
    "    :param animal_type: str - The type of animal (e.g., 'dog', 'cat').\n",
    "    :param pet_name: str - The name of the pet.\n",
    "    \"\"\"\n",
    "    print(f\"I have a {animal_type} named {pet_name}.\")\n",
    "\n",
    "# Using keyword arguments\n",
    "describe_pet(animal_type=\"dog\", pet_name=\"Rex\")\n",
    "describe_pet(pet_name=\"Whiskers\", animal_type=\"cat\")"
   ]
  },
  {
   "cell_type": "markdown",
   "metadata": {},
   "source": [
    "#### 6. Arbitrary Arguments (*args)"
   ]
  },
  {
   "cell_type": "code",
   "execution_count": 6,
   "metadata": {},
   "outputs": [
    {
     "name": "stdout",
     "output_type": "stream",
     "text": [
      "Total sum: 15\n"
     ]
    }
   ],
   "source": [
    "def sum_all(*args):\n",
    "    \"\"\"\n",
    "    A function that accepts an arbitrary number of arguments and returns their sum.\n",
    "    :param args: tuple - A variable number of arguments.\n",
    "    :return: int/float - The sum of all arguments.\n",
    "    \"\"\"\n",
    "    return sum(args)\n",
    "\n",
    "# Calling with multiple arguments\n",
    "total = sum_all(1, 2, 3, 4, 5)\n",
    "print(f\"Total sum: {total}\")"
   ]
  },
  {
   "cell_type": "markdown",
   "metadata": {},
   "source": [
    "#### 7. Arbitrary Keyword Arguments (**kwargs)"
   ]
  },
  {
   "cell_type": "code",
   "execution_count": 7,
   "metadata": {},
   "outputs": [
    {
     "name": "stdout",
     "output_type": "stream",
     "text": [
      "name: Alice\n",
      "age: 30\n",
      "city: New York\n"
     ]
    }
   ],
   "source": [
    "def describe_person(**kwargs):\n",
    "    \"\"\"\n",
    "    A function that accepts an arbitrary number of keyword arguments and prints the details.\n",
    "    :param kwargs: dict - A variable number of keyword arguments.\n",
    "    \"\"\"\n",
    "    for key, value in kwargs.items():\n",
    "        print(f\"{key}: {value}\")\n",
    "\n",
    "# Calling with multiple keyword arguments\n",
    "describe_person(name=\"Alice\", age=30, city=\"New York\")"
   ]
  },
  {
   "cell_type": "markdown",
   "metadata": {},
   "source": [
    "#### 8. Anonymous (Lambda) Functions"
   ]
  },
  {
   "cell_type": "code",
   "execution_count": 8,
   "metadata": {},
   "outputs": [
    {
     "name": "stdout",
     "output_type": "stream",
     "text": [
      "Square of 4: 16\n",
      "Addition using lambda: 8\n"
     ]
    }
   ],
   "source": [
    "square = lambda x: x * x\n",
    "# Calling the lambda function\n",
    "print(f\"Square of 4: {square(4)}\")\n",
    "\n",
    "# Lambda with multiple arguments\n",
    "add_numbers = lambda a, b: a + b\n",
    "print(f\"Addition using lambda: {add_numbers(3, 5)}\")"
   ]
  },
  {
   "cell_type": "markdown",
   "metadata": {},
   "source": [
    "#### 9. Higher-Order Functions"
   ]
  },
  {
   "cell_type": "code",
   "execution_count": 9,
   "metadata": {},
   "outputs": [
    {
     "name": "stdout",
     "output_type": "stream",
     "text": [
      "Result of applying function: 25\n"
     ]
    }
   ],
   "source": [
    "def apply_function(func, value):\n",
    "    \"\"\"\n",
    "    A higher-order function that applies a given function to a value.\n",
    "    :param func: function - A function to apply.\n",
    "    :param value: int/float - The value to apply the function to.\n",
    "    :return: The result of applying func to value.\n",
    "    \"\"\"\n",
    "    return func(value)\n",
    "\n",
    "# Passing a lambda function as an argument\n",
    "result = apply_function(lambda x: x ** 2, 5)\n",
    "print(f\"Result of applying function: {result}\")"
   ]
  },
  {
   "cell_type": "markdown",
   "metadata": {},
   "source": [
    "#### 10. Closures"
   ]
  },
  {
   "cell_type": "code",
   "execution_count": 10,
   "metadata": {},
   "outputs": [
    {
     "name": "stdout",
     "output_type": "stream",
     "text": [
      "Message: Hello from closure!\n"
     ]
    }
   ],
   "source": [
    "def outer_function(msg):\n",
    "    \"\"\"\n",
    "    An outer function that returns a closure.\n",
    "    :param msg: str - The message to capture in the closure.\n",
    "    :return: function - A closure that prints the message.\n",
    "    \"\"\"\n",
    "    def inner_function():\n",
    "        print(f\"Message: {msg}\")\n",
    "    return inner_function\n",
    "\n",
    "# Creating and using a closure\n",
    "closure = outer_function(\"Hello from closure!\")\n",
    "closure()"
   ]
  },
  {
   "cell_type": "markdown",
   "metadata": {},
   "source": [
    "#### 11. Recursion"
   ]
  },
  {
   "cell_type": "code",
   "execution_count": 11,
   "metadata": {},
   "outputs": [
    {
     "name": "stdout",
     "output_type": "stream",
     "text": [
      "Factorial of 5: 120\n"
     ]
    }
   ],
   "source": [
    "def factorial(n):\n",
    "    \"\"\"\n",
    "    A recursive function that returns the factorial of a number.\n",
    "    :param n: int - The number to calculate the factorial of.\n",
    "    :return: int - The factorial of n.\n",
    "    \"\"\"\n",
    "    if n == 1:\n",
    "        return 1\n",
    "    else:\n",
    "        return n * factorial(n - 1)\n",
    "\n",
    "# Calling the recursive function\n",
    "print(f\"Factorial of 5: {factorial(5)}\")"
   ]
  },
  {
   "cell_type": "markdown",
   "metadata": {},
   "source": [
    "#### 12. Decorators"
   ]
  },
  {
   "cell_type": "code",
   "execution_count": 12,
   "metadata": {},
   "outputs": [
    {
     "name": "stdout",
     "output_type": "stream",
     "text": [
      "Wrapper executed before display.\n",
      "Display function executed.\n"
     ]
    }
   ],
   "source": [
    "def decorator_function(original_function):\n",
    "    \"\"\"\n",
    "    A decorator function that wraps another function.\n",
    "    :param original_function: function - The function to be wrapped.\n",
    "    :return: function - The wrapped function.\n",
    "    \"\"\"\n",
    "    def wrapper_function():\n",
    "        print(f\"Wrapper executed before {original_function.__name__}.\")\n",
    "        return original_function()\n",
    "    return wrapper_function\n",
    "\n",
    "# Applying a decorator\n",
    "@decorator_function\n",
    "def display():\n",
    "    \"\"\"\n",
    "    A simple function to display a message.\n",
    "    \"\"\"\n",
    "    print(\"Display function executed.\")\n",
    "\n",
    "# Calling the decorated function\n",
    "display()"
   ]
  },
  {
   "cell_type": "markdown",
   "metadata": {},
   "source": [
    "#### 13. Advanced Decorators with Arguments"
   ]
  },
  {
   "cell_type": "code",
   "execution_count": 13,
   "metadata": {},
   "outputs": [
    {
     "name": "stdout",
     "output_type": "stream",
     "text": [
      "Executing - Before greet_person_advanced execution.\n",
      "Hello, Alice!\n"
     ]
    }
   ],
   "source": [
    "def decorator_with_args(message):\n",
    "    \"\"\"\n",
    "    A decorator that accepts arguments.\n",
    "    :param message: str - A message to print before calling the original function.\n",
    "    \"\"\"\n",
    "    def decorator(original_function):\n",
    "        def wrapper_function(*args, **kwargs):\n",
    "            print(f\"{message} - Before {original_function.__name__} execution.\")\n",
    "            return original_function(*args, **kwargs)\n",
    "        return wrapper_function\n",
    "    return decorator\n",
    "\n",
    "@decorator_with_args(\"Executing\")\n",
    "def greet_person_advanced(name):\n",
    "    print(f\"Hello, {name}!\")\n",
    "\n",
    "# Calling the decorated function with arguments\n",
    "greet_person_advanced(\"Alice\")"
   ]
  },
  {
   "cell_type": "markdown",
   "metadata": {},
   "source": [
    "#### 14. Function Annotations (Type Hinting)"
   ]
  },
  {
   "cell_type": "code",
   "execution_count": 14,
   "metadata": {},
   "outputs": [
    {
     "name": "stdout",
     "output_type": "stream",
     "text": [
      "Multiplication result: 12\n"
     ]
    }
   ],
   "source": [
    "def multiply(a: int, b: int) -> int:\n",
    "    \"\"\"\n",
    "    A function with type annotations.\n",
    "    :param a: int - The first number.\n",
    "    :param b: int - The second number.\n",
    "    :return: int - The product of a and b.\n",
    "    \"\"\"\n",
    "    return a * b\n",
    "\n",
    "# Using the function with annotations\n",
    "print(f\"Multiplication result: {multiply(3, 4)}\")"
   ]
  },
  {
   "cell_type": "markdown",
   "metadata": {},
   "source": [
    "#### 15. Partial Functions (from functools)"
   ]
  },
  {
   "cell_type": "code",
   "execution_count": 15,
   "metadata": {},
   "outputs": [
    {
     "name": "stdout",
     "output_type": "stream",
     "text": [
      "Square of 5 using partial: 25\n"
     ]
    }
   ],
   "source": [
    "from functools import partial\n",
    "\n",
    "def power(base, exponent):\n",
    "    \"\"\"\n",
    "    A function that raises base to the power of exponent.\n",
    "    :param base: int/float - The base number.\n",
    "    :param exponent: int/float - The exponent.\n",
    "    :return: int/float - The result of base raised to the power of exponent.\n",
    "    \"\"\"\n",
    "    return base ** exponent\n",
    "\n",
    "# Creating a partial function\n",
    "square_partial = partial(power, exponent=2)\n",
    "\n",
    "# Calling the partial function\n",
    "print(f\"Square of 5 using partial: {square_partial(5)}\")"
   ]
  },
  {
   "cell_type": "markdown",
   "metadata": {},
   "source": [
    "#### 16. Function Objects (Functions as First-Class Citizens)"
   ]
  },
  {
   "cell_type": "code",
   "execution_count": 16,
   "metadata": {},
   "outputs": [
    {
     "name": "stdout",
     "output_type": "stream",
     "text": [
      "HELLO\n",
      "hello\n"
     ]
    }
   ],
   "source": [
    "def shout(text):\n",
    "    return text.upper()\n",
    "\n",
    "def whisper(text):\n",
    "    return text.lower()\n",
    "\n",
    "def greet_with_style(func, message):\n",
    "    \"\"\"\n",
    "    A function that accepts another function and a message.\n",
    "    :param func: function - A function that styles the message.\n",
    "    :param message: str - The message to be styled.\n",
    "    \"\"\"\n",
    "    return func(message)\n",
    "\n",
    "# Using functions as first-class objects\n",
    "print(greet_with_style(shout, \"Hello\"))\n",
    "print(greet_with_style(whisper, \"Hello\"))"
   ]
  },
  {
   "cell_type": "markdown",
   "metadata": {},
   "source": [
    "#### 17. Input Function"
   ]
  },
  {
   "cell_type": "code",
   "execution_count": 17,
   "metadata": {},
   "outputs": [
    {
     "name": "stdout",
     "output_type": "stream",
     "text": [
      "Hello, Debanjan Mondal!\n",
      "You are 26 years old.\n"
     ]
    }
   ],
   "source": [
    "# The `input()` function is used to take input from the user. By default, it returns a string.\n",
    "\n",
    "name = input(\"Enter your name: \")  # Taking input from the user\n",
    "print(f\"Hello, {name}!\")  # Printing the user input\n",
    "\n",
    "# Example with type conversion\n",
    "age = int(input(\"Enter your age: \"))  # Converting input to integer\n",
    "print(f\"You are {age} years old.\")"
   ]
  },
  {
   "cell_type": "markdown",
   "metadata": {},
   "source": [
    "#### 18. Output Function"
   ]
  },
  {
   "cell_type": "code",
   "execution_count": 18,
   "metadata": {},
   "outputs": [
    {
     "name": "stdout",
     "output_type": "stream",
     "text": [
      "This is an example of a basic print statement.\n",
      "You can print multiple values with commas.\n",
      "Alice is 30 years old.\n",
      "apple, banana, cherry\n",
      "This is on the same line.\n"
     ]
    }
   ],
   "source": [
    "# The `print()` function is used to output data to the console. You can output strings, numbers, or variables.\n",
    "\n",
    "print(\"This is an example of a basic print statement.\")  # Basic print\n",
    "print(\"You can print\", \"multiple values\", \"with commas.\")  # Printing multiple values\n",
    "\n",
    "# You can also format output using f-strings (formatted string literals)\n",
    "name = \"Alice\"\n",
    "age = 30\n",
    "print(f\"{name} is {age} years old.\")  # Using f-string for formatted output\n",
    "\n",
    "# Print with custom separators and end character\n",
    "print(\"apple\", \"banana\", \"cherry\", sep=\", \")  # Custom separator\n",
    "print(\"This is\", end=\" \")  # Custom end\n",
    "print(\"on the same line.\")  # Continues on the same line\n"
   ]
  }
 ],
 "metadata": {
  "kernelspec": {
   "display_name": "programming",
   "language": "python",
   "name": "python3"
  },
  "language_info": {
   "codemirror_mode": {
    "name": "ipython",
    "version": 3
   },
   "file_extension": ".py",
   "mimetype": "text/x-python",
   "name": "python",
   "nbconvert_exporter": "python",
   "pygments_lexer": "ipython3",
   "version": "3.12.7"
  }
 },
 "nbformat": 4,
 "nbformat_minor": 2
}
